{
 "cells": [
  {
   "cell_type": "markdown",
   "metadata": {},
   "source": [
    "\n",
    "## session 3 (Exercises Series 2)"
   ]
  },
  {
   "cell_type": "markdown",
   "metadata": {},
   "source": [
    "### 1.Multiples of 3 or 5 (مضرب 3 یا 5)\n",
    "`قراردادن کامنت برای همه خطوط کد الزامی است. (هر خط کامنت را هم از نظر برنامه نویسی و هم به صورت مفهومی توضیح دهید.)`\n",
    "\n",
    "`Commenting is required for all lines of code. (Explain each comment line in both programming and conceptual terms. An example is provided.)`\n",
    "\n",
    "\n",
    "\n",
    "\n",
    "#### Problem Statement(بیان مسئله):\n",
    "لیستی از اعداد مثبت کمتر از 1000 ایجاد کنید به طوری که تمام مقادیر موجود در لیست مضرب 3 یا 5 باشند. مجموع تمامی مقادیر آن لیست را چاپ کنید\n",
    "\n",
    "Create a list of positive numbers less than 1000 such that all values ​​in the list are multiples of 3 or 5. Print the sum of all values ​​in that list.\n",
    "\n",
    "#### Hint(راهنمایی):\n",
    "\n",
    "`a = 13`\n",
    "\n",
    "`b = 6`\n",
    "\n",
    "`c = a % b`\n",
    "\n",
    "`print(a, \"mod\", b, \"=\",c, sep=\" \")`\n",
    "\n",
    "`output: 13 mod 6 = 1`\n",
    "\n",
    "###### To understand this example, you should have the knowledge of the following Python programming topics:\n",
    "<ul>\n",
    "    <li style=\"font-size: 10px;\">0. Python Basic Output</li>\n",
    "    <li style=\"font-size: 10px;\">1. Variables and Data Types</li>\n",
    "    <li style=\"font-size: 10px;\">3. Conditionals (if, elif, else)</li>\n",
    "    <li style=\"font-size: 10px;\">4. Loops</li>\n",
    "    <li style=\"font-size: 10px;\">5. Functions</li>\n",
    "    <li style=\"font-size: 10px;\">6. Lists</li>\n",
    "</ul>\n"
   ]
  },
  {
   "cell_type": "code",
   "execution_count": null,
   "metadata": {},
   "outputs": [],
   "source": [
    "def generate_multiples(limit, multiples):\n",
    "    \"\"\"\n",
    "    Generate a list of numbers less than 'limit' that are multiples of the given 'multiples'.\n",
    "    \n",
    "    ...\n",
    "\n",
    "    \"\"\"\n",
    "    \n",
    "    ...\n",
    "\n",
    "    return result  # Return the list of multiples.\n",
    "\n",
    "\n",
    "def main():\n",
    "    limit = 1000  # ...\n",
    "    multiples = [3, 5]  # ...\n",
    "\n",
    "    numbers = generate_multiples(limit, multiples)  # ...\n",
    "    total_sum = 0  # ...\n",
    "\n",
    "    ...\n",
    "\n",
    "    print(f\"Numbers less than {limit} that are multiples of {multiples}:\")\n",
    "    print(numbers)  # Display the list of multiples.\n",
    "    print(f\"\\nThe sum of these numbers is: {total_sum}\")  # Display the sum.\n",
    "\n",
    "\n",
    "if __name__ == \"__main__\":  # Ensure the script runs only when executed directly.\n",
    "    main()  # Run the main function.\n"
   ]
  },
  {
   "cell_type": "markdown",
   "metadata": {},
   "source": [
    "### 2.Manual Matrix Transposition (انتقال ماتریس به صورت دستی)\n",
    "`Commenting is required for all lines of code.`\n",
    "\n",
    "#### Problem Statement:\n",
    "یک برنامه پایتون بنویسید که یک ماتریس \n",
    "\n",
    "10×10 \n",
    "\n",
    "را به صورت دستی بدون استفاده از توابع داخلی مثل \n",
    "\n",
    ".T یا .transpose() \n",
    "\n",
    "از کتابخانه‌ی نامپای به حالت ترانهاده تبدیل کند\n",
    "\n",
    "Write a Python program to manually transpose a `10×10` matrix `without` using any built-in transposition functions like `.T` or `.transpose()` from the `NumPy` library.\n",
    "\n",
    "\n",
    "###### To understand this example, you should have the knowledge of the following Python programming topics:\n",
    "<ul>\n",
    "    <li style=\"font-size: 10px;\">0. Python Basic Output</li>\n",
    "    <li style=\"font-size: 10px;\">1. Variables and Data Types</li>\n",
    "    <li style=\"font-size: 10px;\">2. Taking Input from the User</li>\n",
    "    <li style=\"font-size: 10px;\">4. Loops</li>\n",
    "    <li style=\"font-size: 10px;\"> 8. Matrices</li>\n",
    "    <li style=\"font-size: 10px;\"> 9. Using `NumPy`</li>\n",
    "</ul>\n",
    "\n"
   ]
  },
  {
   "cell_type": "code",
   "execution_count": null,
   "metadata": {},
   "outputs": [],
   "source": [
    "import numpy as np\n",
    "\n",
    "original_matrix = np.random.randint(1, 101, size=(10, 10))# Generate a 10x10 matrix with random integers between 1 and 100\n",
    "\n",
    "\n",
    "...\n",
    "\n",
    "\n",
    "# Print the original and transposed matrices\n",
    "print(\"Original Matrix:\")\n",
    "print(original_matrix)\n",
    "\n",
    "print(\"\\nTransposed Matrix:\")\n",
    "print(transposed_matrix)\n"
   ]
  },
  {
   "cell_type": "code",
   "execution_count": null,
   "metadata": {},
   "outputs": [],
   "source": []
  },
  {
   "cell_type": "code",
   "execution_count": null,
   "metadata": {},
   "outputs": [],
   "source": []
  },
  {
   "cell_type": "code",
   "execution_count": null,
   "metadata": {},
   "outputs": [],
   "source": []
  },
  {
   "cell_type": "code",
   "execution_count": null,
   "metadata": {},
   "outputs": [],
   "source": []
  }
 ],
 "metadata": {
  "kernelspec": {
   "display_name": "Python 3",
   "language": "python",
   "name": "python3"
  },
  "language_info": {
   "codemirror_mode": {
    "name": "ipython",
    "version": 3
   },
   "file_extension": ".py",
   "mimetype": "text/x-python",
   "name": "python",
   "nbconvert_exporter": "python",
   "pygments_lexer": "ipython3",
   "version": "3.11.9"
  }
 },
 "nbformat": 4,
 "nbformat_minor": 2
}
