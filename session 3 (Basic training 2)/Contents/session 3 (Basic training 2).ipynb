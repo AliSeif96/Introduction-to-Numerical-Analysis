{
 "cells": [
  {
   "cell_type": "markdown",
   "metadata": {},
   "source": [
    "# Welcome to Python Programming!\n",
    "###### Teaching Assistant of Introduction to Numerical Analysis Class\n",
    "\n",
    "###### Class Date: 2024-2025\n",
    "###### Instructor: Dr. Mina Zarei\n",
    "###### Class Link: [Telegram group](https://t.me/+O0bkbFKCmfxmNTg0).\n",
    "\n",
    "###### Exercise class time: <ins>**Monday at 9:30 P002 Class**</ins> (determined by student vote)\n",
    "\n",
    "# ____________________________________________\n",
    "## Session 1 (Install Python in VS Code)\n",
    "###### Follow the instructions in the GitHub link.\n",
    "###### link: [www.github.com/AliSeif96/Introduction-to-Numerical-Analysis/](https://github.com/AliSeif96/Introduction-to-Numerical-Analysis/tree/main/Session%201%20(Install%20Python%20in%20VS%20Code)).\n",
    "# ____________________________________________\n",
    "## session 2 (Basic training)\n",
    "###### 1. Variables and Data Types\n",
    "###### 2. Taking Output and Input from the User\n",
    "###### 3. Conditionals (if, elif, else)\n",
    "###### 4. Loops\n",
    "###### 5. Functions\n",
    "# ____________________________________________\n",
    "## session 3 (Basic training 2)\n",
    "###### 6. Lists\n",
    "###### 7. Arrays\n",
    "###### 8. Matrices\n",
    "###### 9. Using `NumPy`"
   ]
  },
  {
   "cell_type": "markdown",
   "metadata": {},
   "source": [
    "### 6. Lists\n",
    "##### Lists are used to store multiple items in a single variable."
   ]
  },
  {
   "cell_type": "code",
   "execution_count": 55,
   "metadata": {},
   "outputs": [
    {
     "name": "stdout",
     "output_type": "stream",
     "text": [
      "\n",
      "Fruits: ['apple', 'banana', 'cherry']\n"
     ]
    }
   ],
   "source": [
    "# Create a list of fruits, display it, add a new fruit to the list, and display the updated list.\n",
    "fruits = [\"apple\", \"banana\", \"cherry\"]\n",
    "print(\"\\nFruits:\", fruits)"
   ]
  },
  {
   "cell_type": "code",
   "execution_count": 56,
   "metadata": {},
   "outputs": [
    {
     "name": "stdout",
     "output_type": "stream",
     "text": [
      "\n",
      "Fruits: ['apple', 'banana', 'cherry']\n"
     ]
    }
   ],
   "source": [
    "# list()\n",
    "fruits = list((\"apple\", \"banana\", \"cherry\")) # note the double round-brackets\n",
    "print(\"\\nFruits:\", fruits)"
   ]
  },
  {
   "cell_type": "code",
   "execution_count": 57,
   "metadata": {},
   "outputs": [
    {
     "name": "stdout",
     "output_type": "stream",
     "text": [
      "\n",
      "Fruits: ['apple', 'banana', 'cherry', 'apple']\n"
     ]
    }
   ],
   "source": [
    "# Allow Duplicates\n",
    "fruits = [\"apple\", \"banana\", \"cherry\", \"apple\"] #Since lists are indexed, lists can have items with the same value:\n",
    "print(\"\\nFruits:\", fruits)"
   ]
  },
  {
   "cell_type": "code",
   "execution_count": 58,
   "metadata": {},
   "outputs": [
    {
     "name": "stdout",
     "output_type": "stream",
     "text": [
      "\n",
      " ['apple', 'banana', 'cherry']\n",
      "Length of fruits: 3\n"
     ]
    }
   ],
   "source": [
    "# List Length\n",
    "fruits = [\"apple\", \"banana\", \"cherry\"]\n",
    "print(\"\\n\",fruits)\n",
    "print(\"Length of fruits:\",len(fruits)) #To determine how many items a list has, use the len() function:"
   ]
  },
  {
   "cell_type": "code",
   "execution_count": 59,
   "metadata": {},
   "outputs": [
    {
     "name": "stdout",
     "output_type": "stream",
     "text": [
      "\n",
      "list1: ['apple', 'banana', 'cherry'] \n",
      "list2: [1, 5, 7, 9, 3] \n",
      "list3: [True, False, False]\n"
     ]
    }
   ],
   "source": [
    "# List Items - Data Types  \n",
    "# List items can be of any data type:\n",
    "list1 = [\"apple\", \"banana\", \"cherry\"]\n",
    "list2 = [1, 5, 7, 9, 3]\n",
    "list3 = [True, False, False]\n",
    "print(\"\\nlist1:\",list1,\"\\nlist2:\",list2,\"\\nlist3:\",list3)"
   ]
  },
  {
   "cell_type": "code",
   "execution_count": 60,
   "metadata": {},
   "outputs": [
    {
     "name": "stdout",
     "output_type": "stream",
     "text": [
      "\n",
      "type of list4: ['Ali', 34, True, 40, 'male']\n"
     ]
    }
   ],
   "source": [
    "#A list can contain different data types:\n",
    "list4 = [\"Ali\", 34, True, 40, \"male\"]\n",
    "print(\"\\ntype of list4:\",list4)"
   ]
  },
  {
   "cell_type": "code",
   "execution_count": 61,
   "metadata": {},
   "outputs": [
    {
     "name": "stdout",
     "output_type": "stream",
     "text": [
      "\n",
      " ['apple', 'banana', 'cherry']\n",
      "type of mylist: <class 'list'>\n"
     ]
    }
   ],
   "source": [
    "# type()\n",
    "fruits = [\"apple\", \"banana\", \"cherry\"]\n",
    "print(\"\\n\",fruits)\n",
    "print(\"type of mylist:\",type(fruits))#From Python's perspective, lists are defined as objects with the data type 'list':"
   ]
  },
  {
   "cell_type": "code",
   "execution_count": 62,
   "metadata": {},
   "outputs": [
    {
     "name": "stdout",
     "output_type": "stream",
     "text": [
      "\n",
      " ['apple', 'banana', 'cherry']\n",
      "Fruit 2: banana\n"
     ]
    }
   ],
   "source": [
    "# Access Items\n",
    "# List items are indexed and you can access them by referring to the index number:\n",
    "fruits = [\"apple\", \"banana\", \"cherry\"]\n",
    "print(\"\\n\",fruits)\n",
    "print(f\"Fruit {2}:\",fruits[1])"
   ]
  },
  {
   "cell_type": "code",
   "execution_count": 63,
   "metadata": {},
   "outputs": [
    {
     "name": "stdout",
     "output_type": "stream",
     "text": [
      "\n",
      " ['apple', 'banana', 'cherry']\n",
      "Fruits after adding orange: ['apple', 'banana', 'cherry', 'orange']\n"
     ]
    }
   ],
   "source": [
    "# append\n",
    "fruits = [\"apple\", \"banana\", \"cherry\"]\n",
    "print(\"\\n\",fruits)\n",
    "fruits.append(\"orange\")  # Add an item to the list\n",
    "print(\"Fruits after adding orange:\", fruits)"
   ]
  },
  {
   "cell_type": "code",
   "execution_count": 64,
   "metadata": {},
   "outputs": [
    {
     "name": "stdout",
     "output_type": "stream",
     "text": [
      "Fruits after insert watermelon in 2 element: ['apple', 'banana', 'watermelon', 'cherry']\n"
     ]
    }
   ],
   "source": [
    "# insert\n",
    "fruits = [\"apple\", \"banana\", \"cherry\"]\n",
    "fruits.insert(2, \"watermelon\")\n",
    "print(\"Fruits after insert watermelon in 2 element:\",fruits)"
   ]
  },
  {
   "cell_type": "code",
   "execution_count": 65,
   "metadata": {},
   "outputs": [
    {
     "name": "stdout",
     "output_type": "stream",
     "text": [
      "Fruits after Remove element 1: ['apple', 'cherry']\n"
     ]
    }
   ],
   "source": [
    "# Remove Specified Index\n",
    "fruits = [\"apple\", \"banana\", \"cherry\"]\n",
    "fruits.pop(1)\n",
    "print(\"Fruits after Remove element 1:\",fruits)"
   ]
  },
  {
   "cell_type": "code",
   "execution_count": 66,
   "metadata": {},
   "outputs": [
    {
     "name": "stdout",
     "output_type": "stream",
     "text": [
      "\n",
      " ['apple', 'banana', 'cherry']\n",
      "Last of Fruit: cherry\n"
     ]
    }
   ],
   "source": [
    "# Negative Indexing\n",
    "# Negative indexing means start from the end\n",
    "# -1 refers to the last item, -2 refers to the second last item etc.\n",
    "fruits = [\"apple\", \"banana\", \"cherry\"]\n",
    "print(\"\\n\",fruits)\n",
    "print(f\"Last of Fruit:\",fruits[-1])"
   ]
  },
  {
   "cell_type": "code",
   "execution_count": 67,
   "metadata": {},
   "outputs": [
    {
     "name": "stdout",
     "output_type": "stream",
     "text": [
      "\n",
      " ['apple', 'banana', 'cherry', 'orange', 'kiwi', 'melon', 'mango']\n",
      "['cherry', 'orange', 'kiwi']\n"
     ]
    }
   ],
   "source": [
    "# Range of Indexes\n",
    "# @Note: The search will start at index 2 (included) and end at index 5 (not included).\n",
    "# @Remember that the first item has index 0.\n",
    "fruits = [\"apple\", \"banana\", \"cherry\", \"orange\", \"kiwi\", \"melon\", \"mango\"]\n",
    "print(\"\\n\",fruits)\n",
    "print(fruits[2:5])"
   ]
  },
  {
   "cell_type": "code",
   "execution_count": 68,
   "metadata": {},
   "outputs": [
    {
     "name": "stdout",
     "output_type": "stream",
     "text": [
      "\n",
      " ['apple', 'banana', 'cherry', 'orange', 'kiwi', 'melon', 'mango']\n",
      "['orange', 'kiwi', 'melon']\n"
     ]
    }
   ],
   "source": [
    "# Range of Negative Indexes\n",
    "fruits = [\"apple\", \"banana\", \"cherry\", \"orange\", \"kiwi\", \"melon\", \"mango\"]\n",
    "print(\"\\n\",fruits)\n",
    "print(fruits[-4:-1]) # This example returns the items from \"orange\" (-4) to, but NOT including \"mango\" (-1):"
   ]
  },
  {
   "cell_type": "code",
   "execution_count": 69,
   "metadata": {},
   "outputs": [
    {
     "name": "stdout",
     "output_type": "stream",
     "text": [
      "\n",
      " ['orange', 'mango', 'kiwi', 'pineapple', 'banana']\n",
      "Sorted fruits: ['banana', 'kiwi', 'mango', 'orange', 'pineapple']\n",
      "\n",
      " [100, 50, 65, 82, 23]\n",
      "Sorted list: [23, 50, 65, 82, 100]\n"
     ]
    }
   ],
   "source": [
    "# Sort List Alphanumerically \n",
    "# List objects have a sort() method that will sort the list alphanumerically, ascending, by default:\n",
    "fruits = [\"orange\", \"mango\", \"kiwi\", \"pineapple\", \"banana\"]\n",
    "print(\"\\n\",fruits)\n",
    "fruits.sort()\n",
    "print(\"Sorted fruits:\",fruits)\n",
    "\n",
    "thislist = [100, 50, 65, 82, 23]\n",
    "print(\"\\n\",thislist)\n",
    "thislist.sort()\n",
    "print(\"Sorted list:\",thislist) #thislist.sort(reverse = True) #Sort Descending"
   ]
  },
  {
   "cell_type": "code",
   "execution_count": 70,
   "metadata": {},
   "outputs": [
    {
     "name": "stdout",
     "output_type": "stream",
     "text": [
      "\n",
      " ['apple', 'banana', 'cherry']\n",
      "[]\n"
     ]
    }
   ],
   "source": [
    "# Clear the List\n",
    "# The del keyword can also delete the list completely.\n",
    "fruits = [\"apple\", \"banana\", \"cherry\"]\n",
    "print(\"\\n\",fruits)\n",
    "fruits.clear()\n",
    "print(fruits)\n",
    "fruits = [\"apple\", \"banana\", \"cherry\"]\n",
    "del fruits"
   ]
  },
  {
   "cell_type": "markdown",
   "metadata": {},
   "source": [
    "#### Exercise\n",
    "##### What will be the result of the following syntax:\n",
    "\n",
    "`mylist = ['apple', 'apple', 'banana', 'cherry']`\n",
    "\n",
    "`print(mylist[1])`"
   ]
  },
  {
   "cell_type": "code",
   "execution_count": null,
   "metadata": {},
   "outputs": [],
   "source": []
  },
  {
   "cell_type": "markdown",
   "metadata": {},
   "source": [
    "#### Exercise\n",
    "##### What should we do if we want it to print the last 4 values?\n",
    "`thislist = [\"apple\", \"banana\", \"cherry\", \"orange\", \"kiwi\", \"melon\", \"mango\"]`\n"
   ]
  },
  {
   "cell_type": "markdown",
   "metadata": {},
   "source": []
  },
  {
   "cell_type": "code",
   "execution_count": 71,
   "metadata": {},
   "outputs": [
    {
     "name": "stdout",
     "output_type": "stream",
     "text": [
      "\n",
      " ['apple', 'banana', 'cherry']\n",
      "Yes, 'apple' is in the fruits list\n"
     ]
    }
   ],
   "source": [
    "# Check if Item Exists\n",
    "# To determine if a specified item is present in a list use the in keyword:\n",
    "fruits = [\"apple\", \"banana\", \"cherry\"]\n",
    "print(\"\\n\",fruits)\n",
    "if \"apple\" in fruits:\n",
    "    print(\"Yes, 'apple' is in the fruits list\")"
   ]
  },
  {
   "cell_type": "code",
   "execution_count": 72,
   "metadata": {},
   "outputs": [
    {
     "name": "stdout",
     "output_type": "stream",
     "text": [
      "\n",
      " ['apple', 'banana', 'cherry']\n",
      "apple\n",
      "banana\n",
      "cherry\n"
     ]
    }
   ],
   "source": [
    "fruits = [\"apple\", \"banana\", \"cherry\"]\n",
    "print(\"\\n\",fruits)\n",
    "for x in fruits:\n",
    "    print(x)"
   ]
  },
  {
   "cell_type": "code",
   "execution_count": 73,
   "metadata": {},
   "outputs": [
    {
     "name": "stdout",
     "output_type": "stream",
     "text": [
      "\n",
      " ['apple', 'banana', 'cherry']\n",
      "apple\n",
      "banana\n",
      "cherry\n"
     ]
    }
   ],
   "source": [
    "fruits = [\"apple\", \"banana\", \"cherry\"]\n",
    "print(\"\\n\",fruits)\n",
    "for i in range(len(fruits)):\n",
    "    print(fruits[i])"
   ]
  },
  {
   "cell_type": "markdown",
   "metadata": {},
   "source": [
    "\n",
    "### test\n",
    "Based on a list of fruits, you want a new list, containing only the fruits with the letter \"a\" in the name.\n",
    "\n",
    "Without list comprehension you will have to write a for statement with a conditional test inside:\n",
    "\n",
    "fruits = [\"apple\", \"banana\", \"cherry\", \"kiwi\", \"mango\"]\n",
    "newlist = []\n",
    "\n",
    "for x in fruits:\n",
    "  if \"a\" in x:\n",
    "    newlist.append(x)\n",
    "\n",
    "print(newlist)"
   ]
  },
  {
   "cell_type": "markdown",
   "metadata": {},
   "source": [
    "### 7. Arrays\n",
    "##### In Python, arrays are commonly implemented using lists or the NumPy library.\n",
    "##### Let's use a basic list to act as an array."
   ]
  },
  {
   "cell_type": "code",
   "execution_count": 76,
   "metadata": {},
   "outputs": [
    {
     "name": "stdout",
     "output_type": "stream",
     "text": [
      "\n",
      "Array (list) of numbers: [1, 2, 3, 4, 5]\n",
      "Iterating over the array:\n",
      "1\n",
      "2\n",
      "3\n",
      "4\n",
      "5\n"
     ]
    }
   ],
   "source": [
    "# Example of a one-dimensional array (list in Python)\n",
    "numbers = [1, 2, 3, 4, 5]\n",
    "print(\"\\nArray (list) of numbers:\", numbers)\n",
    "\n",
    "# Example of iterating over an array using a for loop\n",
    "print(\"Iterating over the array:\")\n",
    "for num in numbers:\n",
    "    print(num)"
   ]
  },
  {
   "cell_type": "markdown",
   "metadata": {},
   "source": [
    "### 8. Matrices\n",
    "##### A matrix can be represented as a list of lists in Python.\n",
    "##### Each inner list represents a row."
   ]
  },
  {
   "cell_type": "code",
   "execution_count": 77,
   "metadata": {},
   "outputs": [
    {
     "name": "stdout",
     "output_type": "stream",
     "text": [
      "[[1, 2, 3], [4, 5, 6], [7, 8, 9]]\n"
     ]
    }
   ],
   "source": [
    "# Define a 3x3 matrix using a list of lists in Python\n",
    "matrix = [\n",
    "    [1, 2, 3],  # Row 1\n",
    "    [4, 5, 6],  # Row 2\n",
    "    [7, 8, 9]   # Row 3\n",
    "]\n",
    "print(matrix)\n"
   ]
  },
  {
   "cell_type": "code",
   "execution_count": 78,
   "metadata": {},
   "outputs": [
    {
     "name": "stdout",
     "output_type": "stream",
     "text": [
      "\n",
      "Matrix (list of lists):\n",
      "[1, 2, 3]\n",
      "[4, 5, 6]\n",
      "[7, 8, 9]\n"
     ]
    }
   ],
   "source": [
    "# Print the matrix (each row is printed as a list)\n",
    "print(\"\\nMatrix (list of lists):\")\n",
    "for row in matrix:\n",
    "    print(row)  # Print each row"
   ]
  },
  {
   "cell_type": "code",
   "execution_count": 79,
   "metadata": {},
   "outputs": [
    {
     "name": "stdout",
     "output_type": "stream",
     "text": [
      "\n",
      "Element at row 2, column 3: 6\n"
     ]
    }
   ],
   "source": [
    "# Accessing a specific element in the matrix (row 2, column 3)\n",
    "print(\"\\nElement at row 2, column 3:\", matrix[1][2])  # Matrix indices start from 0"
   ]
  },
  {
   "cell_type": "code",
   "execution_count": 80,
   "metadata": {},
   "outputs": [
    {
     "name": "stdout",
     "output_type": "stream",
     "text": [
      "\n",
      "Modified matrix:\n",
      "[1, 99, 3]\n",
      "[4, 5, 6]\n",
      "[7, 8, 9]\n"
     ]
    }
   ],
   "source": [
    "# Modify an element in the matrix (changing the second element of the first row)\n",
    "matrix[0][1] = 99  # Changing the second element of the first row\n",
    "print(\"\\nModified matrix:\")\n",
    "for row in matrix:\n",
    "    print(row)"
   ]
  },
  {
   "cell_type": "markdown",
   "metadata": {},
   "source": [
    "### 9. Using `NumPy` for Advanced Array and Matrix Operations\n",
    "##### NumPy is a powerful library for numerical computing. Let's use it for arrays and matrices."
   ]
  },
  {
   "cell_type": "markdown",
   "metadata": {},
   "source": [
    "#### Why is NumPy Faster Than Lists?\n",
    "###### NumPy arrays are stored at one continuous place in memory unlike lists, so processes can access and manipulate them very efficiently.\n",
    "###### NumPy is a Python library and is written partially in Python, but most of the parts that require fast computation are written in C or C++."
   ]
  },
  {
   "cell_type": "markdown",
   "metadata": {},
   "source": [
    "#### `Installation of NumPy`\n",
    "###### Install it using this command: `pip install numpy`"
   ]
  },
  {
   "cell_type": "code",
   "execution_count": 84,
   "metadata": {},
   "outputs": [
    {
     "name": "stdout",
     "output_type": "stream",
     "text": [
      "[1 2 3 4 5]\n"
     ]
    }
   ],
   "source": [
    "import numpy\n",
    "\n",
    "arr = numpy.array([1, 2, 3, 4, 5])\n",
    "\n",
    "print(arr)"
   ]
  },
  {
   "cell_type": "code",
   "execution_count": 85,
   "metadata": {},
   "outputs": [
    {
     "name": "stdout",
     "output_type": "stream",
     "text": [
      "\n",
      "NumPy Array: [1 2 3 4 5]\n"
     ]
    }
   ],
   "source": [
    "# NumPy as np\n",
    "# Importing NumPy for numerical operations\n",
    "import numpy as np\n",
    "# Create a NumPy one-dimensional array\n",
    "array = np.array([1, 2, 3, 4, 5])\n",
    "print(\"\\nNumPy Array:\", array)"
   ]
  },
  {
   "cell_type": "markdown",
   "metadata": {},
   "source": [
    "#### Dimensions in Arrays"
   ]
  },
  {
   "cell_type": "code",
   "execution_count": 88,
   "metadata": {},
   "outputs": [
    {
     "name": "stdout",
     "output_type": "stream",
     "text": [
      "42\n"
     ]
    }
   ],
   "source": [
    "# 0-D Arrays\n",
    "import numpy as np\n",
    "\n",
    "arr = np.array(42)# Create a 0-D array with value 42\n",
    "print(arr)"
   ]
  },
  {
   "cell_type": "code",
   "execution_count": 89,
   "metadata": {},
   "outputs": [
    {
     "name": "stdout",
     "output_type": "stream",
     "text": [
      "[1 2 3 4 5]\n"
     ]
    }
   ],
   "source": [
    "#1-D Arrays\n",
    "import numpy as np\n",
    "\n",
    "arr = np.array([1, 2, 3, 4, 5])\n",
    "print(arr)"
   ]
  },
  {
   "cell_type": "code",
   "execution_count": 97,
   "metadata": {},
   "outputs": [
    {
     "name": "stdout",
     "output_type": "stream",
     "text": [
      "[[1 2 3]\n",
      " [4 5 6]\n",
      " [7 8 9]]\n"
     ]
    }
   ],
   "source": [
    "# 2-D Arrays\n",
    "import numpy as np\n",
    "\n",
    "arr = np.array([\n",
    "    [1, 2, 3], \n",
    "    [4, 5, 6],\n",
    "    [7, 8, 9],\n",
    "    ])\n",
    "print(arr)"
   ]
  },
  {
   "cell_type": "code",
   "execution_count": 98,
   "metadata": {},
   "outputs": [
    {
     "name": "stdout",
     "output_type": "stream",
     "text": [
      "[[[1 2 3]\n",
      "  [4 5 6]]\n",
      "\n",
      " [[1 2 3]\n",
      "  [4 5 6]]\n",
      "\n",
      " [[1 2 3]\n",
      "  [4 5 6]]]\n"
     ]
    }
   ],
   "source": [
    "# 3-D arrays\n",
    "import numpy as np\n",
    "\n",
    "arr = np.array([\n",
    "    [\n",
    "        [1, 2, 3], \n",
    "        [4, 5, 6]],\n",
    "    [\n",
    "        [1, 2, 3], \n",
    "        [4, 5, 6]], \n",
    "    [\n",
    "        [1, 2, 3], \n",
    "        [4, 5, 6]]\n",
    "    ])\n",
    "print(arr)"
   ]
  },
  {
   "cell_type": "code",
   "execution_count": 99,
   "metadata": {},
   "outputs": [
    {
     "name": "stdout",
     "output_type": "stream",
     "text": [
      "0\n",
      "1\n",
      "2\n",
      "3\n"
     ]
    }
   ],
   "source": [
    "# Check Number of Dimensions\n",
    "# NumPy Arrays provides the ndim attribute that returns an integer that tells us how many dimensions the array have.\n",
    "import numpy as np\n",
    "\n",
    "a = np.array(42)\n",
    "b = np.array([1, 2, 3, 4, 5])\n",
    "c = np.array([[1, 2, 3], [4, 5, 6]])\n",
    "d = np.array([[[1, 2, 3], [4, 5, 6]], [[1, 2, 3], [4, 5, 6]]])\n",
    "\n",
    "print(a.ndim)\n",
    "print(b.ndim)\n",
    "print(c.ndim)\n",
    "print(d.ndim)"
   ]
  },
  {
   "cell_type": "code",
   "execution_count": 100,
   "metadata": {},
   "outputs": [
    {
     "name": "stdout",
     "output_type": "stream",
     "text": [
      "\n",
      "NumPy Matrix:\n",
      "[[1 2 3]\n",
      " [4 5 6]\n",
      " [7 8 9]]\n",
      "\n",
      "Matrix Transpose:\n",
      "[[1 4 7]\n",
      " [2 5 8]\n",
      " [3 6 9]]\n",
      "\n",
      "Matrix Addition:\n",
      "[[ 2  6 10]\n",
      " [ 6 10 14]\n",
      " [10 14 18]]\n"
     ]
    }
   ],
   "source": [
    "# Create a NumPy 2D matrix (list of lists converted to a NumPy array)\n",
    "numpy_matrix = np.array([\n",
    "    [1, 2, 3],\n",
    "    [4, 5, 6],\n",
    "    [7, 8, 9]\n",
    "])\n",
    "print(\"\\nNumPy Matrix:\")\n",
    "print(numpy_matrix)\n",
    "\n",
    "# Perform matrix operations\n",
    "\n",
    "# Transpose the matrix (flip rows and columns)\n",
    "print(\"\\nMatrix Transpose:\")\n",
    "print(numpy_matrix.T)  # Transpose the matrix\n",
    "\n",
    "# Perform element-wise matrix addition (add the transposed matrix to the original matrix)\n",
    "print(\"\\nMatrix Addition:\")\n",
    "print(numpy_matrix.T + numpy_matrix)  # Element-wise addition\n"
   ]
  },
  {
   "cell_type": "markdown",
   "metadata": {},
   "source": [
    "##### Searching Arrays"
   ]
  },
  {
   "cell_type": "code",
   "execution_count": 139,
   "metadata": {},
   "outputs": [
    {
     "name": "stdout",
     "output_type": "stream",
     "text": [
      "(array([3, 5, 6], dtype=int64),)\n",
      "5\n"
     ]
    }
   ],
   "source": [
    "# You can search an array for a certain value, and return the indexes that get a match.\n",
    "# To search an array, use the where() method.\n",
    "\n",
    "import numpy as np\n",
    "\n",
    "arr = np.array([1, 2, 3, 4, 5, 4, 4])\n",
    "\n",
    "x = np.where(arr == 4)\n",
    "\n",
    "print(x)\n",
    "\n",
    "print(x[0][1])"
   ]
  },
  {
   "cell_type": "code",
   "execution_count": null,
   "metadata": {},
   "outputs": [],
   "source": []
  },
  {
   "cell_type": "code",
   "execution_count": null,
   "metadata": {},
   "outputs": [],
   "source": []
  },
  {
   "cell_type": "code",
   "execution_count": null,
   "metadata": {},
   "outputs": [],
   "source": []
  },
  {
   "cell_type": "code",
   "execution_count": null,
   "metadata": {},
   "outputs": [],
   "source": []
  }
 ],
 "metadata": {
  "kernelspec": {
   "display_name": "Python 3",
   "language": "python",
   "name": "python3"
  },
  "language_info": {
   "codemirror_mode": {
    "name": "ipython",
    "version": 3
   },
   "file_extension": ".py",
   "mimetype": "text/x-python",
   "name": "python",
   "nbconvert_exporter": "python",
   "pygments_lexer": "ipython3",
   "version": "3.11.9"
  }
 },
 "nbformat": 4,
 "nbformat_minor": 2
}
