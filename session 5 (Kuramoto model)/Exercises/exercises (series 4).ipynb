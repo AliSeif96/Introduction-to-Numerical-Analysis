{
 "cells": [
  {
   "cell_type": "markdown",
   "metadata": {},
   "source": [
    "\n",
    "## session 5 (Exercises Series 4)"
   ]
  },
  {
   "cell_type": "markdown",
   "metadata": {},
   "source": [
    "### 1.Multiples of 3 or 5 (مضرب 3 یا 5)\n",
    "`قراردادن کامنت برای همه خطوط کد الزامی است. (هر خط کامنت را هم از نظر برنامه نویسی و هم به صورت مفهومی توضیح دهید.)`\n",
    "\n",
    "`Commenting is required for all lines of code. (Explain each comment line in both programming and conceptual terms. An example is provided.)`\n",
    "\n",
    "\n",
    "\n",
    "\n",
    "#### Problem Statement(بیان مسئله):\n",
    "مدل کوراموتو را برای ۱۰ نوسانگر برای شرایط اولیه داده شده محاسبه کنید.\n",
    "\n",
    "فاز های اولیه به صورت تصادفی بین مقادیر ۰ تا ۲پی\n",
    "\n",
    "فرکانس های ذاتی به صورت تصادفی مقادیر بین -۱ تا ۱\n",
    "\n",
    "قدرت کوپلینگ برابر ۲\n",
    "\n",
    "گام زمانی ۰.۰۱\n",
    "\n",
    "زمان نهایی سیستم ( به حالت همگام برسد)\n",
    "\n",
    "\n",
    "فاز های نوسانگر ها بر حسب زمان و همچنین همگامی را نمایش دهید.\n",
    "\n",
    "\n",
    "\n",
    "Calculate the Kuramoto model for 10 oscillators for the given initial conditions.\n",
    "\n",
    "Initial phases randomly between 0 and 2p\n",
    "\n",
    "Natural frequencies randomly between -1 and 1\n",
    "\n",
    "Coupling strength equal to 2\n",
    "\n",
    "Time step 0.01\n",
    "\n",
    "Final time of the system (to reach synchrony)\n",
    "\n",
    "\n",
    "Display the phases of the oscillators over time as well as synchronization.\n",
    "\n",
    "#### Hint(راهنمایی):\n",
    "\n",
    "###### Program to generate a random number between 0 and 9\n",
    "\n",
    "###### importing the random module\n",
    "\n",
    "`import random`\n",
    "\n",
    "`print(random.randint(0,9))`\n",
    "\n",
    "###### To understand this example, you should have the knowledge of the following Python programming topics:\n",
    "<ul>\n",
    "    <li style=\"font-size: 10px;\">0. Python Basic Output</li>\n",
    "    <li style=\"font-size: 10px;\">1. Variables and Data Types</li>\n",
    "    <li style=\"font-size: 10px;\">3. Conditionals (if, elif, else)</li>\n",
    "    <li style=\"font-size: 10px;\">4. Loops</li>\n",
    "    <li style=\"font-size: 10px;\">5. Functions</li>\n",
    "    <li style=\"font-size: 10px;\">6. Lists</li>\n",
    "    <li style=\"font-size: 10px;\">7. Arrays</li>\n",
    "    <li style=\"font-size: 10px;\">9. Using `NumPy`</li>\n",
    "    <li style=\"font-size: 10px;\">11. Matplotlib</li>\n",
    "    <li style=\"font-size: 10px;\">12. Kuramoto model</li>\n",
    "</ul>\n"
   ]
  },
  {
   "cell_type": "code",
   "execution_count": null,
   "metadata": {},
   "outputs": [],
   "source": [
    "def kuramoto_euler(...):\n",
    "    \"\"\"\n",
    "    Simulates the Kuramoto model for oscillators using the Euler method.\n",
    "\n",
    "    Parameters:\n",
    "        ...\n",
    "\n",
    "    Returns:\n",
    "        ...\n",
    "    \"\"\"\n",
    "    \n",
    "    ...\n",
    "\n",
    "    return ...  \n",
    "\n",
    "\n",
    "def main():\n",
    "    ...\n",
    "\n",
    "\n",
    "if __name__ == \"__main__\":  # Ensure the script runs only when executed directly.\n",
    "    main()  # Run the main function.\n"
   ]
  },
  {
   "cell_type": "code",
   "execution_count": null,
   "metadata": {},
   "outputs": [],
   "source": []
  },
  {
   "cell_type": "code",
   "execution_count": null,
   "metadata": {},
   "outputs": [],
   "source": []
  },
  {
   "cell_type": "code",
   "execution_count": null,
   "metadata": {},
   "outputs": [],
   "source": []
  },
  {
   "cell_type": "code",
   "execution_count": null,
   "metadata": {},
   "outputs": [],
   "source": []
  }
 ],
 "metadata": {
  "kernelspec": {
   "display_name": "Python 3",
   "language": "python",
   "name": "python3"
  },
  "language_info": {
   "codemirror_mode": {
    "name": "ipython",
    "version": 3
   },
   "file_extension": ".py",
   "mimetype": "text/x-python",
   "name": "python",
   "nbconvert_exporter": "python",
   "pygments_lexer": "ipython3",
   "version": "3.11.9"
  }
 },
 "nbformat": 4,
 "nbformat_minor": 2
}
