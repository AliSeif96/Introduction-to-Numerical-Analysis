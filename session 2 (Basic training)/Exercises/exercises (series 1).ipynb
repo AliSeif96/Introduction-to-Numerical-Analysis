{
 "cells": [
  {
   "cell_type": "markdown",
   "metadata": {},
   "source": [
    "\n",
    "## session 2 (Exercises Series 1)"
   ]
  },
  {
   "cell_type": "markdown",
   "metadata": {},
   "source": [
    "### 1.Calculate the Area of a Triangle\n",
    "`Commenting is required for all lines of code. (Explain each comment line in both programming and conceptual terms. An example is provided.)`\n",
    "\n",
    "#### Problem Statement:\n",
    "Given that `a`, `b`, and `c` are the sides of a triangle:\n",
    "- `a` is fixed at 5.\n",
    "- `b` is fixed at 6.1.\n",
    "- `c` is entered by the user (7).\n",
    "\n",
    "#### Formulas to Calculate the Area:\n",
    "\n",
    "Formula for the semi-perimeter:$$ s = (a + b + c) / 2 $$\n",
    "\n",
    "Formula for the area of the triangle:$$ area = (s * (s - a) * (s - b) * (s - c)) ** 0.5 $$\n",
    "\n",
    "\n",
    "What does this part of the code `'%0.2f'` % do? (Be sure to comment on its functionality)\n",
    "\n",
    "\n",
    "\n",
    "###### To understand this example, you should have the knowledge of the following Python programming topics:\n",
    "<ul>\n",
    "    <li style=\"font-size: 10px;\">0. Python Basic Output</li>\n",
    "    <li style=\"font-size: 10px;\">1. Variables and Data Types</li>\n",
    "    <li style=\"font-size: 10px;\">2. Taking Input from the User</li>\n",
    "</ul>\n"
   ]
  },
  {
   "cell_type": "code",
   "execution_count": null,
   "metadata": {},
   "outputs": [],
   "source": [
    "# Python Program to find the area of triangle\n",
    "\n",
    "# Variables\n",
    "a = 5 #An int variable (representing one of the sides of the triangle)\n",
    "...\n",
    "\n",
    "# Uncomment below to take inputs from the user\n",
    "...\n",
    "\n",
    "# calculate the semi-perimeter\n",
    "...\n",
    "\n",
    "# calculate the area\n",
    "...\n",
    "\n",
    "print('The area of the triangle is %0.2f' %area) #..."
   ]
  },
  {
   "cell_type": "markdown",
   "metadata": {},
   "source": [
    "### 2.Even or Odd Checker with Exit Condition\n",
    "`Commenting is required for all lines of code.`\n",
    "\n",
    "#### Problem Statement:\n",
    "Write a Python program that continuously accepts numbers from the user and determines whether the entered number is `even` or `odd`. The program should stop running when the user inputs `0`. (This means that it will always run until the number zero is entered)\n",
    "\n",
    "Your program should:\n",
    "\n",
    "1.Prompt the user to enter an integer.\n",
    "\n",
    "2.If the number is:\n",
    "-  `0`, display a message indicating the program is exiting and terminate the loop.\n",
    "-  `Even`, display the message <number> is Even.\n",
    "-  `Odd`, display the message <number> is Odd.\n",
    "\n",
    "3.Repeat this process until the user enters 0.\n",
    "\n",
    "\n",
    "###### To understand this example, you should have the knowledge of the following Python programming topics:\n",
    "<ul>\n",
    "    <li style=\"font-size: 10px;\">0. Python Basic Output</li>\n",
    "    <li style=\"font-size: 10px;\">1. Variables and Data Types</li>\n",
    "    <li style=\"font-size: 10px;\">2. Taking Input from the User</li>\n",
    "    <li style=\"font-size: 10px;\">3. Conditionals</li>\n",
    "    <li style=\"font-size: 10px;\">4. Loops</li>\n",
    "</ul>\n",
    "\n"
   ]
  },
  {
   "cell_type": "code",
   "execution_count": null,
   "metadata": {},
   "outputs": [],
   "source": [
    "# Even or Odd Checker with Exit Condition\n",
    "\n",
    "...\n",
    "\n"
   ]
  },
  {
   "cell_type": "markdown",
   "metadata": {},
   "source": [
    "### 3.Recursive Factorial Calculator\n",
    "`Commenting is required for all lines of code.`\n",
    "\n",
    "Write a program to calculate the factorial of a number using recursion. Your program should:\n",
    "\n",
    "1.Define a recursive function `factorial(x)` that:\n",
    "-  Returns `1` if the input is `0` or `1` (base case).\n",
    "-  Otherwise, calculates the factorial by calling itself with `x - 1`.\n",
    "\n",
    "2.Prompt the user to input a non-negative integer.\n",
    "\n",
    "3.Call the factorial function with the user's input.\n",
    "\n",
    "4.Print the factorial of the number.\n",
    "\n",
    "\n",
    "###### To understand this example, you should have the knowledge of the following Python programming topics:\n",
    "<ul>\n",
    "    <li style=\"font-size: 10px;\">0. Python Basic Output</li>\n",
    "    <li style=\"font-size: 10px;\">1. Variables and Data Types</li>\n",
    "    <li style=\"font-size: 10px;\">2. Taking Input from the User</li>\n",
    "    <li style=\"font-size: 10px;\">3. Conditionals</li>\n",
    "    <li style=\"font-size: 10px;\">5. Functions</li>\n",
    "</ul>\n"
   ]
  },
  {
   "cell_type": "code",
   "execution_count": null,
   "metadata": {},
   "outputs": [],
   "source": [
    "# Python program to find the factorial of a number provided by the user\n",
    "# using recursion\n",
    "\n",
    "def factorial(x):\n",
    "    \"\"\"This is a recursive function\n",
    "    to find the factorial of an integer\"\"\"\n",
    "\n",
    "    if ...:\n",
    "        return 1\n",
    "    else:\n",
    "        # recursive call to the function\n",
    "        return (...)\n",
    "\n",
    "\n",
    "# to take input from the user (must num is int)\n",
    "num = int(...)\n",
    "\n",
    "# call the factorial function\n",
    "result = factorial(num)\n",
    "\n",
    "print(\"The factorial of\", num, \"is\", result)"
   ]
  }
 ],
 "metadata": {
  "kernelspec": {
   "display_name": "Python 3",
   "language": "python",
   "name": "python3"
  },
  "language_info": {
   "codemirror_mode": {
    "name": "ipython",
    "version": 3
   },
   "file_extension": ".py",
   "mimetype": "text/x-python",
   "name": "python",
   "nbconvert_exporter": "python",
   "pygments_lexer": "ipython3",
   "version": "3.11.9"
  }
 },
 "nbformat": 4,
 "nbformat_minor": 2
}
