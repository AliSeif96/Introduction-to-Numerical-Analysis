{
 "cells": [
  {
   "cell_type": "markdown",
   "metadata": {},
   "source": [
    "# Welcome to Python Programming!\n"
   ]
  },
  {
   "cell_type": "markdown",
   "metadata": {},
   "source": [
    "###### Teaching Assistant of Introduction to Numerical Analysis Class\n",
    "\n",
    "###### Class Date: 2024-2025\n",
    "###### Instructor: Dr. Mina Zarei\n",
    "###### Class Link: [Telegram group](https://t.me/+O0bkbFKCmfxmNTg0).\n",
    "\n",
    "###### Exercise class time: <ins>**Monday at 9:30 P002 Class**</ins> (determined by student vote)"
   ]
  },
  {
   "cell_type": "markdown",
   "metadata": {},
   "source": [
    "# ____________________________________________\n",
    "## Session 1 (Install Python in VS Code)"
   ]
  },
  {
   "cell_type": "markdown",
   "metadata": {},
   "source": [
    "###### Follow the instructions in the GitHub link.\n",
    "###### link: [www.github.com/AliSeif96/Introduction-to-Numerical-Analysis/](https://github.com/AliSeif96/Introduction-to-Numerical-Analysis/tree/main/Session%201%20(Install%20Python%20in%20VS%20Code))."
   ]
  },
  {
   "cell_type": "markdown",
   "metadata": {},
   "source": [
    "# ____________________________________________\n",
    "## session 2 (Basic training)"
   ]
  },
  {
   "cell_type": "markdown",
   "metadata": {},
   "source": [
    "###### 1. Variables and Data Types\n",
    "###### 2. Taking Input from the User\n",
    "###### 3. Conditionals (if, elif, else)\n",
    "###### 4. Loops\n",
    "###### 5. Functions"
   ]
  },
  {
   "cell_type": "markdown",
   "metadata": {},
   "source": [
    "### 1. Variables and Data Types\n",
    "##### Python allows you to store data in variables."
   ]
  },
  {
   "cell_type": "code",
   "execution_count": 2,
   "metadata": {},
   "outputs": [
    {
     "name": "stdout",
     "output_type": "stream",
     "text": [
      "Name: Alice\n",
      "Age: 25\n",
      "Height: 5.5\n",
      "Is a student: True\n"
     ]
    }
   ],
   "source": [
    "name = \"Alice\"      # Assign a string value \"Alice\" to the variable `name`.\n",
    "age = 25            # Assign an integer value 25 to the variable `age`.\n",
    "height = 5.5        # Assign a float value 5.5 (decimal number) to the variable `height`.\n",
    "is_student = True   # Assign a boolean value `True` to the variable `is_student`.\n",
    "\n",
    "print(\"Name:\", name)# Print the value of `name` with a label \"Name:\".\n",
    "print(\"Age:\", age)  # Print the value of `age` with a label \"Age:\".\n",
    "print(\"Height:\", height)# Print the value of `height` with a label \"Height:\".\n",
    "print(\"Is a student:\", is_student)# Print the value of `is_student` with a label \"Is a student:\".\n"
   ]
  },
  {
   "cell_type": "markdown",
   "metadata": {},
   "source": [
    "### 2. Taking Input from the User\n",
    "##### Use the input() function to get user input."
   ]
  },
  {
   "cell_type": "code",
   "execution_count": null,
   "metadata": {},
   "outputs": [
    {
     "name": "stdout",
     "output_type": "stream",
     "text": [
      "Hello  ali!\n"
     ]
    }
   ],
   "source": [
    "# Prompt the user to enter their name and store the input as a string in the variable `user_name`.\n",
    "user_name = input(\"Enter your name: \")  # The `input` function always returns a string.\n",
    "\n",
    "# Print a greeting message that includes the user's name. \n",
    "# Use a combination of string concatenation and comma-separated values for formatting.\n",
    "print(\"Hello \", user_name + \"!\")  # `user_name + \"!\"` appends \"!\" to the user's name.\n"
   ]
  },
  {
   "cell_type": "markdown",
   "metadata": {},
   "source": [
    "### 3. Conditionals (if, elif, else)\n",
    "##### Control the flow of the program using conditions."
   ]
  },
  {
   "cell_type": "code",
   "execution_count": 16,
   "metadata": {},
   "outputs": [
    {
     "name": "stdout",
     "output_type": "stream",
     "text": [
      "You are an adult.\n"
     ]
    }
   ],
   "source": [
    "# Categorizing a person based on their age using if-elif-else statements\n",
    "\n",
    "if age < 18:                            # Check if the age falls into the \"minor\" category\n",
    "    print(\"You are a minor.\")           # This executes if the age is less than 18\n",
    "elif age >= 18 and age < 60:            # Using `and` to combine two conditions: age >= 18 and age < 60\n",
    "    print(\"You are an adult.\")          # This executes if age is between 18 and 59 (inclusive)\n",
    "else:                                   # If the age does not match the above conditions, it falls into the \"senior citizen\" category\n",
    "    print(\"You are a senior citizen.\")  # This executes for ages 60 and above"
   ]
  },
  {
   "cell_type": "markdown",
   "metadata": {},
   "source": [
    "### 4. Loops\n",
    "##### Use loops to repeat a block of code.\n",
    "##### a. For loop"
   ]
  },
  {
   "cell_type": "code",
   "execution_count": 2,
   "metadata": {},
   "outputs": [
    {
     "name": "stdout",
     "output_type": "stream",
     "text": [
      "\n",
      "Counting from 1 to 5:\n",
      "1\n",
      "2\n",
      "3\n",
      "4\n",
      "5\n"
     ]
    }
   ],
   "source": [
    "# Print a heading to indicate the counting starts.\n",
    "print(\"\\nCounting from 1 to 5:\")\n",
    "\n",
    "# Start a for loop that iterates through numbers generated by range(1, 6, 1).\n",
    "for i in range(1, 6, 1):  # range(start, stop, step): starts at 1, stops before 6, increments by 1.\n",
    "    print(i)  # Print the current number in each iteration.\n"
   ]
  },
  {
   "cell_type": "markdown",
   "metadata": {},
   "source": [
    "##### b. While loop"
   ]
  },
  {
   "cell_type": "code",
   "execution_count": 3,
   "metadata": {},
   "outputs": [
    {
     "name": "stdout",
     "output_type": "stream",
     "text": [
      "\n",
      "Countdown from 5:\n",
      "5\n",
      "4\n",
      "3\n",
      "2\n",
      "1\n"
     ]
    }
   ],
   "source": [
    "# Print a heading to indicate the countdown starts.\n",
    "print(\"\\nCountdown from 5:\")\n",
    "\n",
    "# Initialize the countdown variable with the starting value 5.\n",
    "count = 5\n",
    "\n",
    "# Start a while loop that runs as long as count is greater than 0.\n",
    "while count > 0:  \n",
    "    print(count)  # Print the current value of count.\n",
    "    count -= 1  # Decrease the value of count by 1 in each iteration.\n",
    "\n"
   ]
  },
  {
   "cell_type": "markdown",
   "metadata": {},
   "source": [
    "### 5. Functions\n",
    "##### Functions allow us to reuse blocks of code."
   ]
  },
  {
   "cell_type": "code",
   "execution_count": 5,
   "metadata": {},
   "outputs": [
    {
     "name": "stdout",
     "output_type": "stream",
     "text": [
      "Welcome ali\n",
      "19\n",
      "18 27\n"
     ]
    }
   ],
   "source": [
    "# Define a function to greet the user by name and display a welcome message.\n",
    "def greet(name):  \n",
    "    \"\"\"This function greets the user.\"\"\"  # Docstring explaining what the function does.\n",
    "    print(f\"Welcome {name}\")  # Print a formatted welcome message with the user's name.\n",
    "\n",
    "# Call the function with the user's name (\"ali\") as an argument.\n",
    "greet(\"ali\")\n",
    "\n",
    "# Define a function to perform operations on two numbers and return results.\n",
    "def factor32(num, ali_age):  \n",
    "    return num + 1, ali_age + 6  # Increment num by 1 and ali_age by 6, and return both values.\n",
    "\n",
    "# Call factor32 with arguments 18 and 22, and unpack the results into variables a and _.\n",
    "a, _ = factor32(18, 22)  # The second value is ignored by assigning it to _.\n",
    "print(a)  # Print the value of a (result of num + 1).\n",
    "\n",
    "# Call factor32 with arguments 17 and 21, and unpack the results into variables a and b.\n",
    "a, b = factor32(17, 21)  \n",
    "print(a, b)  # Print both a (num + 1) and b (ali_age + 6).\n"
   ]
  }
 ],
 "metadata": {
  "kernelspec": {
   "display_name": "Python 3",
   "language": "python",
   "name": "python3"
  },
  "language_info": {
   "codemirror_mode": {
    "name": "ipython",
    "version": 3
   },
   "file_extension": ".py",
   "mimetype": "text/x-python",
   "name": "python",
   "nbconvert_exporter": "python",
   "pygments_lexer": "ipython3",
   "version": "3.11.9"
  }
 },
 "nbformat": 4,
 "nbformat_minor": 2
}
